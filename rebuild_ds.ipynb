{
 "cells": [
  {
   "cell_type": "code",
   "execution_count": 15,
   "metadata": {},
   "outputs": [],
   "source": [
    "import glob\n",
    "import os\n",
    "import shutil\n",
    "import sys\n",
    "import random\n",
    "\n",
    "\n",
    "# list all images in given dir\n",
    "def list_images(dir_path):\n",
    "    return glob.glob(os.path.join(dir_path, '*.jpg'))\n",
    "\n",
    "\n",
    "# pick up labels from image path\n",
    "def get_labels(imgs):\n",
    "    labels = []\n",
    "    for img in imgs:\n",
    "        label = os.path.basename(img).split('.')[0].split('_')[0]\n",
    "        labels.append(label)\n",
    "    return labels, imgs\n",
    "\n"
   ]
  },
  {
   "cell_type": "code",
   "execution_count": 16,
   "metadata": {},
   "outputs": [
    {
     "name": "stdout",
     "output_type": "stream",
     "text": [
      "189131\n"
     ]
    }
   ],
   "source": [
    "path = \"train\"\n",
    "_imgs = list_images(path)\n",
    "print(len(_imgs))"
   ]
  },
  {
   "cell_type": "code",
   "execution_count": 17,
   "metadata": {},
   "outputs": [
    {
     "name": "stdout",
     "output_type": "stream",
     "text": [
      "['25너5674', '40가4557', 'I71 아1264', '53마8391', '55너2121', '446어5159', '147오2817', '79더2890', 'h24아1480', '153버8456']\n"
     ]
    }
   ],
   "source": [
    "_labels, _imgs_path = get_labels(_imgs)\n",
    "# random pick up 10 labels to check\n",
    "_labels_10 = random.sample(_labels, 10)\n",
    "print(_labels_10)"
   ]
  },
  {
   "cell_type": "code",
   "execution_count": 18,
   "metadata": {},
   "outputs": [
    {
     "name": "stdout",
     "output_type": "stream",
     "text": [
      "[('3', 136661), ('1', 131319), ('7', 123509), ('2', 121788), ('5', 115641), ('6', 114662), ('4', 113975), ('8', 109715), ('9', 102216), ('0', 96255), (' ', 32742), ('바', 21271), ('i', 15832), ('아', 9855), ('I', 6817), ('배', 6086), ('사', 5604), ('자', 5598), ('조', 4467), ('도', 4372), ('두', 4354), ('고', 4341), ('모', 4301), ('너', 4281), ('소', 4255), ('노', 4244), ('부', 4235), ('어', 4209), ('거', 4169), ('수', 4163), ('누', 4146), ('라', 4122), ('더', 4118), ('저', 4086), ('버', 4078), ('우', 4074), ('오', 4069), ('주', 4039), ('나', 3997), ('가', 3995), ('로', 3978), ('마', 3954), ('서', 3945), ('호', 3945), ('무', 3912), ('다', 3893), ('구', 3891), ('보', 3863), ('러', 3821), ('머', 3741), ('루', 3703), ('하', 3487), ('허', 2469), ('d', 2240), ('a', 1928), ('D', 1829), ('A', 1460), ('M', 976), ('C', 968), ('c', 961), ('G', 931), ('B', 917), ('O', 907), ('e', 906), ('L', 906), ('l', 906), ('J', 904), ('N', 899), ('K', 892), ('g', 890), ('h', 885), ('p', 885), ('F', 884), ('q', 877), ('o', 875), ('b', 873), ('j', 870), ('Q', 867), ('P', 866), ('E', 865), ('n', 862), ('k', 855), ('f', 842), ('m', 841), ('H', 641)]\n"
     ]
    }
   ],
   "source": [
    "# count each char in labels\n",
    "char_count = {}\n",
    "for label in _labels:\n",
    "    for char in label:\n",
    "        if char in char_count:\n",
    "            char_count[char] += 1\n",
    "        else:\n",
    "            char_count[char] = 1\n",
    "\n",
    "# sort char_count by value\n",
    "char_count = sorted(char_count.items(), key=lambda x: x[1], reverse=True)\n",
    "print(char_count)"
   ]
  },
  {
   "cell_type": "code",
   "execution_count": 19,
   "metadata": {},
   "outputs": [
    {
     "name": "stdout",
     "output_type": "stream",
     "text": [
      "641\n"
     ]
    }
   ],
   "source": [
    "# 选取图片，使得图片中的字符数量尽可能的保持均衡\n",
    "# 选取最少的字符数量\n",
    "min_char_count = char_count[-1][1]\n",
    "print(min_char_count)\n"
   ]
  },
  {
   "cell_type": "code",
   "execution_count": 20,
   "metadata": {},
   "outputs": [
    {
     "name": "stdout",
     "output_type": "stream",
     "text": [
      "['3', '1', '7', '2', '5', '6', '4', '8', '9', '0', '바', 'i', '아', 'I', '배', '사', '자', '조', '도', '두', '고', '모', '너', '소', '노', '부', '어', '거', '수', '누', '라', '더', '저', '버', '우', '오', '주', '나', '가', '로', '마', '서', '호', '무', '다', '구', '보', '러', '머', '루', '하', '허', 'd', 'a', 'D', 'A', 'M', 'C', 'c', 'G', 'B', 'O', 'e', 'L', 'l', 'J', 'N', 'K', 'g', 'h', 'p', 'F', 'q', 'o', 'b', 'j', 'Q', 'P', 'E', 'n', 'k', 'f', 'm', 'H']\n"
     ]
    }
   ],
   "source": [
    "# get all dict keys\n",
    "keys = [x[0] for x in char_count]\n",
    "# remove space\n",
    "keys.remove(' ')\n",
    "print(keys)"
   ]
  },
  {
   "cell_type": "code",
   "execution_count": 21,
   "metadata": {},
   "outputs": [
    {
     "name": "stdout",
     "output_type": "stream",
     "text": [
      "바 21271\n",
      "i 22649\n",
      "아 9855\n",
      "I 22649\n",
      "배 6086\n",
      "사 5604\n",
      "자 5598\n",
      "조 4467\n",
      "도 4372\n",
      "두 4354\n",
      "고 4341\n",
      "모 4301\n",
      "너 4281\n",
      "소 4255\n",
      "노 4244\n",
      "부 4235\n",
      "어 4209\n",
      "거 4169\n",
      "수 4163\n",
      "누 4146\n",
      "라 4122\n",
      "더 4118\n",
      "저 4086\n",
      "버 4078\n",
      "우 4074\n",
      "오 4069\n",
      "주 4039\n",
      "나 3997\n",
      "가 3995\n",
      "로 3978\n",
      "마 3954\n",
      "서 3945\n",
      "호 3945\n",
      "무 3912\n",
      "다 3893\n",
      "구 3891\n",
      "보 3863\n",
      "러 3821\n",
      "머 3741\n",
      "루 3703\n",
      "하 3487\n",
      "허 2469\n",
      "d 4069\n",
      "a 3388\n",
      "D 4069\n",
      "A 3388\n",
      "M 1817\n",
      "C 1929\n",
      "c 1929\n",
      "G 1821\n",
      "B 1790\n",
      "O 1782\n",
      "e 1771\n",
      "L 1812\n",
      "l 1812\n",
      "J 1774\n",
      "N 1761\n",
      "K 1747\n",
      "g 1821\n",
      "h 1526\n",
      "p 1751\n",
      "F 1726\n",
      "q 1744\n",
      "o 1782\n",
      "b 1790\n",
      "j 1774\n",
      "Q 1744\n",
      "P 1751\n",
      "E 1771\n",
      "n 1761\n",
      "k 1747\n",
      "f 1726\n",
      "m 1817\n",
      "H 1526\n"
     ]
    }
   ],
   "source": [
    "# func to check label is korean or not\n",
    "def is_korean(label):\n",
    "    for char in label:\n",
    "        if ord(char) < 44032 or ord(char) > 55203:\n",
    "            return False\n",
    "    return True\n",
    "\n",
    "# func to check label is english char or not\n",
    "def is_english(label):\n",
    "    for char in label:\n",
    "        if ord(char) < 65 or ord(char) > 122:\n",
    "            return False\n",
    "    return True\n",
    "\n",
    "# each pick up 700 images\n",
    "for i in keys:\n",
    "    if is_korean(i):\n",
    "        imgs = glob.glob(os.path.join(path, '*{}*.jpg'.format(i)))        \n",
    "    elif is_english(i):\n",
    "        imgs = glob.glob(os.path.join(path, '{}*.jpg'.format(i)))\n",
    "    else:\n",
    "        continue\n",
    "\n",
    "    print(i, len(imgs))\n",
    "    # random pick up 700 images\n",
    "    imgs = random.sample(imgs, 600)\n",
    "    # copy to new dir\n",
    "    for img in imgs:\n",
    "        shutil.copy(img, os.path.join('data', os.path.basename(img)))\n",
    "        # copy png\n",
    "        shutil.copy(img.replace('jpg', 'png'), os.path.join('data', os.path.basename(img).replace('jpg', 'png')))"
   ]
  }
 ],
 "metadata": {
  "kernelspec": {
   "display_name": "Python 3",
   "language": "python",
   "name": "python3"
  },
  "language_info": {
   "codemirror_mode": {
    "name": "ipython",
    "version": 3
   },
   "file_extension": ".py",
   "mimetype": "text/x-python",
   "name": "python",
   "nbconvert_exporter": "python",
   "pygments_lexer": "ipython3",
   "version": "3.10.8"
  },
  "orig_nbformat": 4
 },
 "nbformat": 4,
 "nbformat_minor": 2
}
